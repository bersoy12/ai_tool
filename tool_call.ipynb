{
 "cells": [
  {
   "cell_type": "code",
   "execution_count": 59,
   "metadata": {},
   "outputs": [],
   "source": [
    "first_tools = [\n",
    "        # Tool 1 - Get Exchange Rate\n",
    "        { \n",
    "            \"type\": \"function\",\n",
    "            \"function\": {\n",
    "                \"name\": \"get_exchange_rate\",\n",
    "                \"description\": \"Get the current exchange rate of a base currency and target currency\",\n",
    "                \"parameters\": {\n",
    "                    \"type\": \"object\",\n",
    "                    \"properties\": {\n",
    "                        \"base_currency\": {\n",
    "                            \"type\": \"string\",\n",
    "                            \"description\": \"The base currency for exchange rate calculations, i.e. USD, EUR, RUB\",\n",
    "                        },\n",
    "                        \"target_currency\": {\n",
    "                            \"type\": \"string\", \n",
    "                            \"description\": \"The target currency for exchange rate calculations, i.e. USD, EUR, RUB\"\n",
    "                        },\n",
    "                        \"date\": {\n",
    "                            \"type\": \"string\", \n",
    "                            \"description\": \"A specific day to reference, in YYYY-MM-DD format.\"\n",
    "                        },\n",
    "                    },\n",
    "                    \"required\": [\"base_currency\", \"target_currency\"],\n",
    "                },\n",
    "            },\n",
    "        },\n",
    "        # Tool 2 - Search Internet\n",
    "        { \n",
    "            \"type\": \"function\",\n",
    "            \"function\": {\n",
    "                \"name\": \"search_internet\",\n",
    "                \"description\": \"Get internet search results for real time information\",\n",
    "                \"parameters\": {\n",
    "                    \"type\": \"object\",\n",
    "                    \"properties\": {\n",
    "                        \"search_query\": {\n",
    "                            \"type\": \"string\",\n",
    "                            \"description\": \"The query to search the web for\",\n",
    "                        }\n",
    "                    },\n",
    "                    \"required\": [\"search_query\"],\n",
    "                },\n",
    "            },\n",
    "        },\n",
    "        # Tool 3 - Get Weather\n",
    "        {\n",
    "            \"type\": \"function\",\n",
    "            \"function\": {\n",
    "                \"name\": \"get_weather\",\n",
    "                \"description\": \"Get the current weather for a specific location\",\n",
    "                \"parameters\": {\n",
    "                    \"type\": \"object\",\n",
    "                    \"properties\": {\n",
    "                        \"location\": {\"type\": \"string\"},\n",
    "                        \"unit\": {\"type\": \"string\", \"enum\": [\"metric\", \"imperial\", \"standard\"]},\n",
    "                    },\n",
    "                    \"required\": [\"location\"],\n",
    "                    \"additionalProperties\": False,\n",
    "                },\n",
    "            },\n",
    "        }\n",
    "    ]"
   ]
  },
  {
   "cell_type": "code",
   "execution_count": 96,
   "metadata": {},
   "outputs": [],
   "source": [
    "import os\n",
    "from dotenv import load_dotenv\n",
    "\n",
    "load_dotenv()\n",
    "api_key = os.getenv(\"OPENAI_API_KEY\")\n",
    "openweather_api_key = os.getenv(\"OPENWEATHER_API_KEY\")"
   ]
  },
  {
   "cell_type": "code",
   "execution_count": 97,
   "metadata": {},
   "outputs": [],
   "source": [
    "from openai import OpenAI\n",
    "import json\n",
    "\n",
    "client = OpenAI(api_key=api_key)\n",
    "\n",
    "prompt = \"How much is a dollar worth in Japan? How about Turkey? Whats the current news in Peru? What's the weather in Lima?\"\n",
    "\n",
    "messages = [{\"role\": \"user\", \n",
    "             \"content\": prompt}]\n",
    "\n",
    "\n",
    "response = client.chat.completions.create(\n",
    "        model=\"gpt-4o-mini\",\n",
    "        messages=messages,\n",
    "        tools=first_tools,\n",
    "        tool_choice=\"auto\",\n",
    "    )"
   ]
  },
  {
   "cell_type": "code",
   "execution_count": 98,
   "metadata": {},
   "outputs": [],
   "source": [
    "def pprint_response(response):\n",
    "    print(\"--- Full Response ---\\n\")\n",
    "    print(response, \"\\n\")\n",
    "    \n",
    "    print(\"--- Chat Completion Message ---\\n\")\n",
    "    print(response.choices[0].message, \"\\n\")\n",
    "    \n",
    "    if response.choices[0].message.tool_calls:\n",
    "        for i in range(0, len(response.choices[0].message.tool_calls)):\n",
    "            print(f\"--- Tool Call {i+1} ---\\n\")\n",
    "            print(f\"Function: {response.choices[0].message.tool_calls[i].function.name}\\n\")\n",
    "            print(f\"Arguments: {response.choices[0].message.tool_calls[i].function.arguments}\\n\")"
   ]
  },
  {
   "cell_type": "code",
   "execution_count": 99,
   "metadata": {},
   "outputs": [
    {
     "name": "stdout",
     "output_type": "stream",
     "text": [
      "get_exchange_rate\n",
      "{\"base_currency\": \"USD\", \"target_currency\": \"JPY\"}\n",
      "search_internet\n",
      "{\"search_query\": \"current news in Peru\"}\n"
     ]
    }
   ],
   "source": [
    "print(response.choices[0].message.tool_calls[0].function.name)\n",
    "print(response.choices[0].message.tool_calls[0].function.arguments)\n",
    "\n",
    "print(response.choices[0].message.tool_calls[2].function.name)\n",
    "print(response.choices[0].message.tool_calls[2].function.arguments)"
   ]
  },
  {
   "cell_type": "code",
   "execution_count": 100,
   "metadata": {},
   "outputs": [
    {
     "data": {
      "text/plain": [
       "[ChatCompletionMessageToolCall(id='call_Fyhi4UU25uTBi0YrQU3xetSg', function=Function(arguments='{\"base_currency\": \"USD\", \"target_currency\": \"JPY\"}', name='get_exchange_rate'), type='function'),\n",
       " ChatCompletionMessageToolCall(id='call_pzNhRCR4Truc2EE5ijYmHf0g', function=Function(arguments='{\"base_currency\": \"USD\", \"target_currency\": \"TRY\"}', name='get_exchange_rate'), type='function'),\n",
       " ChatCompletionMessageToolCall(id='call_JcFyLF6KhzX3Bb1XpkCZ7Zw3', function=Function(arguments='{\"search_query\": \"current news in Peru\"}', name='search_internet'), type='function'),\n",
       " ChatCompletionMessageToolCall(id='call_YZEcsjZREkvXQsem99kp8def', function=Function(arguments='{\"location\": \"Lima\", \"unit\": \"metric\"}', name='get_weather'), type='function')]"
      ]
     },
     "execution_count": 100,
     "metadata": {},
     "output_type": "execute_result"
    }
   ],
   "source": [
    "tool_calls = response.choices[0].message.tool_calls\n",
    "\n",
    "tool_calls"
   ]
  },
  {
   "cell_type": "code",
   "execution_count": 101,
   "metadata": {},
   "outputs": [
    {
     "name": "stdout",
     "output_type": "stream",
     "text": [
      "--- Full Response ---\n",
      "\n",
      "ChatCompletion(id='chatcmpl-AMb6g2rvwDcraGa2BIEV7lRJUVCHA', choices=[Choice(finish_reason='tool_calls', index=0, logprobs=None, message=ChatCompletionMessage(content=None, refusal=None, role='assistant', audio=None, function_call=None, tool_calls=[ChatCompletionMessageToolCall(id='call_Fyhi4UU25uTBi0YrQU3xetSg', function=Function(arguments='{\"base_currency\": \"USD\", \"target_currency\": \"JPY\"}', name='get_exchange_rate'), type='function'), ChatCompletionMessageToolCall(id='call_pzNhRCR4Truc2EE5ijYmHf0g', function=Function(arguments='{\"base_currency\": \"USD\", \"target_currency\": \"TRY\"}', name='get_exchange_rate'), type='function'), ChatCompletionMessageToolCall(id='call_JcFyLF6KhzX3Bb1XpkCZ7Zw3', function=Function(arguments='{\"search_query\": \"current news in Peru\"}', name='search_internet'), type='function'), ChatCompletionMessageToolCall(id='call_YZEcsjZREkvXQsem99kp8def', function=Function(arguments='{\"location\": \"Lima\", \"unit\": \"metric\"}', name='get_weather'), type='function')]))], created=1729949218, model='gpt-4o-mini-2024-07-18', object='chat.completion', service_tier=None, system_fingerprint='fp_f59a81427f', usage=CompletionUsage(completion_tokens=96, prompt_tokens=206, total_tokens=302, completion_tokens_details=CompletionTokensDetails(audio_tokens=None, reasoning_tokens=0), prompt_tokens_details=PromptTokensDetails(audio_tokens=None, cached_tokens=0))) \n",
      "\n",
      "--- Chat Completion Message ---\n",
      "\n",
      "ChatCompletionMessage(content=None, refusal=None, role='assistant', audio=None, function_call=None, tool_calls=[ChatCompletionMessageToolCall(id='call_Fyhi4UU25uTBi0YrQU3xetSg', function=Function(arguments='{\"base_currency\": \"USD\", \"target_currency\": \"JPY\"}', name='get_exchange_rate'), type='function'), ChatCompletionMessageToolCall(id='call_pzNhRCR4Truc2EE5ijYmHf0g', function=Function(arguments='{\"base_currency\": \"USD\", \"target_currency\": \"TRY\"}', name='get_exchange_rate'), type='function'), ChatCompletionMessageToolCall(id='call_JcFyLF6KhzX3Bb1XpkCZ7Zw3', function=Function(arguments='{\"search_query\": \"current news in Peru\"}', name='search_internet'), type='function'), ChatCompletionMessageToolCall(id='call_YZEcsjZREkvXQsem99kp8def', function=Function(arguments='{\"location\": \"Lima\", \"unit\": \"metric\"}', name='get_weather'), type='function')]) \n",
      "\n",
      "--- Tool Call 1 ---\n",
      "\n",
      "Function: get_exchange_rate\n",
      "\n",
      "Arguments: {\"base_currency\": \"USD\", \"target_currency\": \"JPY\"}\n",
      "\n",
      "--- Tool Call 2 ---\n",
      "\n",
      "Function: get_exchange_rate\n",
      "\n",
      "Arguments: {\"base_currency\": \"USD\", \"target_currency\": \"TRY\"}\n",
      "\n",
      "--- Tool Call 3 ---\n",
      "\n",
      "Function: search_internet\n",
      "\n",
      "Arguments: {\"search_query\": \"current news in Peru\"}\n",
      "\n",
      "--- Tool Call 4 ---\n",
      "\n",
      "Function: get_weather\n",
      "\n",
      "Arguments: {\"location\": \"Lima\", \"unit\": \"metric\"}\n",
      "\n"
     ]
    }
   ],
   "source": [
    "pprint_response(response)"
   ]
  },
  {
   "cell_type": "code",
   "execution_count": 102,
   "metadata": {},
   "outputs": [],
   "source": [
    "from duckduckgo_search import DDGS\n",
    "import requests"
   ]
  },
  {
   "cell_type": "code",
   "execution_count": 103,
   "metadata": {},
   "outputs": [],
   "source": [
    "def search_internet(search_query: str) -> list:\n",
    "    results = DDGS().text(str(search_query), max_results=5)\n",
    "    return results\n",
    "\n",
    "def get_exchange_rate(base_currency: str, target_currency: str, date: str = \"latest\") -> float:\n",
    "    \n",
    "    url = f\"https://cdn.jsdelivr.net/npm/@fawazahmed0/currency-api@{date}/v1/currencies/{base_currency.lower()}.json\"\n",
    "    response = requests.get(url)\n",
    "    \n",
    "    if response.status_code == 200:\n",
    "        data = response.json()\n",
    "        return data.get(base_currency.lower(), {}).get(target_currency.lower(), None)\n",
    "    else:\n",
    "        raise Exception(f\"Failed to fetch exchange rate: {response.status_code}\")\n",
    "    \n",
    "def get_weather(location: str, unit: str = \"metric\") -> dict:\n",
    "    url = f\"https://api.openweathermap.org/data/2.5/weather?q={location}&units={unit}&appid={openweather_api_key}\"\n",
    "    response = requests.get(url)\n",
    "    return response.json()"
   ]
  },
  {
   "cell_type": "code",
   "execution_count": 104,
   "metadata": {},
   "outputs": [
    {
     "data": {
      "text/plain": [
       "[{'title': \"Peru News | Today's Latest Stories | Reuters\",\n",
       "  'href': 'https://www.reuters.com/world/peru/',\n",
       "  'body': \"Peru's rebounding economy to grow 3.1% this year, cenbank forecasts. Peru's central bank expects that the Andean nation's economy will grow 3.1% this year and a further 3.0% in 2025, it said in a ...\"},\n",
       " {'title': 'Peru declares state of emergency in parts of capital after crime spike ...',\n",
       "  'href': 'https://www.reuters.com/world/americas/peru-declares-state-emergency-parts-capital-after-crime-spike-2023-09-18/',\n",
       "  'body': \"Peru's President Dina Boluarte speaks as she meets with foreign press, in Lima, Peru January 24, 2023. ... Reuters, the news and media division of Thomson Reuters, is the world's largest ...\"},\n",
       " {'title': \"What's behind the violence, protests in Peru? - NBC News\",\n",
       "  'href': 'https://www.nbcnews.com/news/latino/violence-protests-peru-rcna65543',\n",
       "  'body': 'A wounded protester receives assistance at a demonstration in Cusco, Peru, on Wednesday. Ivan Flores / AFP - Getty Images Jan. 12, 2023, 8:42 PM UTC / Source : Reuters'},\n",
       " {'title': 'Peru News - Peruvian Times, Peru news in English since 1908',\n",
       "  'href': 'https://www.peruviantimes.com/',\n",
       "  'body': \"Peru News - Peruvian Times, Peru news in English since 1908. About Us. Archives. Andean Air Mail & PERUVIAN TIMES, for nearly 100 years Peru's newspaper source for English-language local news and analysis. Wednesday, October 23, 2024.\"},\n",
       " {'title': 'Peru - BBC News',\n",
       "  'href': 'https://www.bbc.com/news/topics/c1038wnxe4rt',\n",
       "  'body': 'Former Peruvian leader Alberto Fujimori dies at 86. The ex-president, who was convicted of human rights abuses and corruption, dies of tongue cancer. Latin America. 11 Sep 2024.'}]"
      ]
     },
     "execution_count": 104,
     "metadata": {},
     "output_type": "execute_result"
    }
   ],
   "source": [
    "search_internet(\"news in Peru\")"
   ]
  },
  {
   "cell_type": "code",
   "execution_count": 124,
   "metadata": {},
   "outputs": [],
   "source": [
    "messages = [{\"role\": \"user\", \"content\": prompt}]"
   ]
  },
  {
   "cell_type": "code",
   "execution_count": 125,
   "metadata": {},
   "outputs": [
    {
     "name": "stdout",
     "output_type": "stream",
     "text": [
      "\n",
      "Initial Message:  [{'role': 'user', 'content': \"How much is a dollar worth in Japan? How about Turkey? Whats the current news in Peru? What's the weather in Lima?\"}]\n"
     ]
    }
   ],
   "source": [
    "print(\"\\nInitial Message: \", messages)"
   ]
  },
  {
   "cell_type": "code",
   "execution_count": 126,
   "metadata": {},
   "outputs": [
    {
     "data": {
      "text/plain": [
       "[{'type': 'function',\n",
       "  'function': {'name': 'get_exchange_rate',\n",
       "   'description': 'Get the current exchange rate of a base currency and target currency',\n",
       "   'parameters': {'type': 'object',\n",
       "    'properties': {'base_currency': {'type': 'string',\n",
       "      'description': 'The base currency for exchange rate calculations, i.e. USD, EUR, RUB'},\n",
       "     'target_currency': {'type': 'string',\n",
       "      'description': 'The target currency for exchange rate calculations, i.e. USD, EUR, RUB'},\n",
       "     'date': {'type': 'string',\n",
       "      'description': 'A specific day to reference, in YYYY-MM-DD format.'}},\n",
       "    'required': ['base_currency', 'target_currency']}}},\n",
       " {'type': 'function',\n",
       "  'function': {'name': 'search_internet',\n",
       "   'description': 'Get internet search results for real time information',\n",
       "   'parameters': {'type': 'object',\n",
       "    'properties': {'search_query': {'type': 'string',\n",
       "      'description': 'The query to search the web for'}},\n",
       "    'required': ['search_query']}}},\n",
       " {'type': 'function',\n",
       "  'function': {'name': 'get_weather',\n",
       "   'description': 'Get the current weather for a specific location',\n",
       "   'parameters': {'type': 'object',\n",
       "    'properties': {'location': {'type': 'string'},\n",
       "     'unit': {'type': 'string', 'enum': ['metric', 'imperial', 'standard']}},\n",
       "    'required': ['location'],\n",
       "    'additionalProperties': False}}}]"
      ]
     },
     "execution_count": 126,
     "metadata": {},
     "output_type": "execute_result"
    }
   ],
   "source": [
    "first_tools"
   ]
  },
  {
   "cell_type": "code",
   "execution_count": 127,
   "metadata": {},
   "outputs": [
    {
     "data": {
      "text/plain": [
       "[ChatCompletionMessageToolCall(id='call_Fyhi4UU25uTBi0YrQU3xetSg', function=Function(arguments='{\"base_currency\": \"USD\", \"target_currency\": \"JPY\"}', name='get_exchange_rate'), type='function'),\n",
       " ChatCompletionMessageToolCall(id='call_pzNhRCR4Truc2EE5ijYmHf0g', function=Function(arguments='{\"base_currency\": \"USD\", \"target_currency\": \"TRY\"}', name='get_exchange_rate'), type='function'),\n",
       " ChatCompletionMessageToolCall(id='call_JcFyLF6KhzX3Bb1XpkCZ7Zw3', function=Function(arguments='{\"search_query\": \"current news in Peru\"}', name='search_internet'), type='function'),\n",
       " ChatCompletionMessageToolCall(id='call_YZEcsjZREkvXQsem99kp8def', function=Function(arguments='{\"location\": \"Lima\", \"unit\": \"metric\"}', name='get_weather'), type='function')]"
      ]
     },
     "execution_count": 127,
     "metadata": {},
     "output_type": "execute_result"
    }
   ],
   "source": [
    "tool_calls"
   ]
  },
  {
   "cell_type": "code",
   "execution_count": 128,
   "metadata": {},
   "outputs": [
    {
     "data": {
      "text/plain": [
       "ChatCompletion(id='chatcmpl-AMb6g2rvwDcraGa2BIEV7lRJUVCHA', choices=[Choice(finish_reason='tool_calls', index=0, logprobs=None, message=ChatCompletionMessage(content=None, refusal=None, role='assistant', audio=None, function_call=None, tool_calls=[ChatCompletionMessageToolCall(id='call_Fyhi4UU25uTBi0YrQU3xetSg', function=Function(arguments='{\"base_currency\": \"USD\", \"target_currency\": \"JPY\"}', name='get_exchange_rate'), type='function'), ChatCompletionMessageToolCall(id='call_pzNhRCR4Truc2EE5ijYmHf0g', function=Function(arguments='{\"base_currency\": \"USD\", \"target_currency\": \"TRY\"}', name='get_exchange_rate'), type='function'), ChatCompletionMessageToolCall(id='call_JcFyLF6KhzX3Bb1XpkCZ7Zw3', function=Function(arguments='{\"search_query\": \"current news in Peru\"}', name='search_internet'), type='function'), ChatCompletionMessageToolCall(id='call_YZEcsjZREkvXQsem99kp8def', function=Function(arguments='{\"location\": \"Lima\", \"unit\": \"metric\"}', name='get_weather'), type='function')]))], created=1729949218, model='gpt-4o-mini-2024-07-18', object='chat.completion', service_tier=None, system_fingerprint='fp_f59a81427f', usage=CompletionUsage(completion_tokens=96, prompt_tokens=206, total_tokens=302, completion_tokens_details=CompletionTokensDetails(audio_tokens=None, reasoning_tokens=0), prompt_tokens_details=PromptTokensDetails(audio_tokens=None, cached_tokens=0)))"
      ]
     },
     "execution_count": 128,
     "metadata": {},
     "output_type": "execute_result"
    }
   ],
   "source": [
    "response"
   ]
  },
  {
   "cell_type": "code",
   "execution_count": 129,
   "metadata": {},
   "outputs": [
    {
     "data": {
      "text/plain": [
       "ChatCompletionMessage(content=None, refusal=None, role='assistant', audio=None, function_call=None, tool_calls=[ChatCompletionMessageToolCall(id='call_Fyhi4UU25uTBi0YrQU3xetSg', function=Function(arguments='{\"base_currency\": \"USD\", \"target_currency\": \"JPY\"}', name='get_exchange_rate'), type='function'), ChatCompletionMessageToolCall(id='call_pzNhRCR4Truc2EE5ijYmHf0g', function=Function(arguments='{\"base_currency\": \"USD\", \"target_currency\": \"TRY\"}', name='get_exchange_rate'), type='function'), ChatCompletionMessageToolCall(id='call_JcFyLF6KhzX3Bb1XpkCZ7Zw3', function=Function(arguments='{\"search_query\": \"current news in Peru\"}', name='search_internet'), type='function'), ChatCompletionMessageToolCall(id='call_YZEcsjZREkvXQsem99kp8def', function=Function(arguments='{\"location\": \"Lima\", \"unit\": \"metric\"}', name='get_weather'), type='function')])"
      ]
     },
     "execution_count": 129,
     "metadata": {},
     "output_type": "execute_result"
    }
   ],
   "source": [
    "response.choices[0].message"
   ]
  },
  {
   "cell_type": "code",
   "execution_count": 130,
   "metadata": {},
   "outputs": [],
   "source": [
    "functions = {\n",
    "            \"get_exchange_rate\": get_exchange_rate,\n",
    "            \"search_internet\": search_internet,\n",
    "            \"get_weather\": get_weather,\n",
    "        }"
   ]
  },
  {
   "cell_type": "code",
   "execution_count": 131,
   "metadata": {},
   "outputs": [
    {
     "data": {
      "text/plain": [
       "{'get_exchange_rate': <function __main__.get_exchange_rate(base_currency: str, target_currency: str, date: str = 'latest') -> float>,\n",
       " 'search_internet': <function __main__.search_internet(search_query: str) -> list>,\n",
       " 'get_weather': <function __main__.get_weather(location: str, unit: str = 'metric') -> dict>}"
      ]
     },
     "execution_count": 131,
     "metadata": {},
     "output_type": "execute_result"
    }
   ],
   "source": [
    "functions"
   ]
  },
  {
   "cell_type": "code",
   "execution_count": 132,
   "metadata": {},
   "outputs": [
    {
     "data": {
      "text/plain": [
       "[{'role': 'user',\n",
       "  'content': \"How much is a dollar worth in Japan? How about Turkey? Whats the current news in Peru? What's the weather in Lima?\"}]"
      ]
     },
     "execution_count": 132,
     "metadata": {},
     "output_type": "execute_result"
    }
   ],
   "source": [
    "messages"
   ]
  },
  {
   "cell_type": "code",
   "execution_count": 133,
   "metadata": {},
   "outputs": [],
   "source": [
    "messages.append(response.choices[0].message)"
   ]
  },
  {
   "cell_type": "code",
   "execution_count": 134,
   "metadata": {},
   "outputs": [
    {
     "data": {
      "text/plain": [
       "[{'role': 'user',\n",
       "  'content': \"How much is a dollar worth in Japan? How about Turkey? Whats the current news in Peru? What's the weather in Lima?\"},\n",
       " ChatCompletionMessage(content=None, refusal=None, role='assistant', audio=None, function_call=None, tool_calls=[ChatCompletionMessageToolCall(id='call_Fyhi4UU25uTBi0YrQU3xetSg', function=Function(arguments='{\"base_currency\": \"USD\", \"target_currency\": \"JPY\"}', name='get_exchange_rate'), type='function'), ChatCompletionMessageToolCall(id='call_pzNhRCR4Truc2EE5ijYmHf0g', function=Function(arguments='{\"base_currency\": \"USD\", \"target_currency\": \"TRY\"}', name='get_exchange_rate'), type='function'), ChatCompletionMessageToolCall(id='call_JcFyLF6KhzX3Bb1XpkCZ7Zw3', function=Function(arguments='{\"search_query\": \"current news in Peru\"}', name='search_internet'), type='function'), ChatCompletionMessageToolCall(id='call_YZEcsjZREkvXQsem99kp8def', function=Function(arguments='{\"location\": \"Lima\", \"unit\": \"metric\"}', name='get_weather'), type='function')])]"
      ]
     },
     "execution_count": 134,
     "metadata": {},
     "output_type": "execute_result"
    }
   ],
   "source": [
    "messages"
   ]
  },
  {
   "cell_type": "code",
   "execution_count": 135,
   "metadata": {},
   "outputs": [
    {
     "data": {
      "text/plain": [
       "[ChatCompletionMessageToolCall(id='call_Fyhi4UU25uTBi0YrQU3xetSg', function=Function(arguments='{\"base_currency\": \"USD\", \"target_currency\": \"JPY\"}', name='get_exchange_rate'), type='function'),\n",
       " ChatCompletionMessageToolCall(id='call_pzNhRCR4Truc2EE5ijYmHf0g', function=Function(arguments='{\"base_currency\": \"USD\", \"target_currency\": \"TRY\"}', name='get_exchange_rate'), type='function'),\n",
       " ChatCompletionMessageToolCall(id='call_JcFyLF6KhzX3Bb1XpkCZ7Zw3', function=Function(arguments='{\"search_query\": \"current news in Peru\"}', name='search_internet'), type='function'),\n",
       " ChatCompletionMessageToolCall(id='call_YZEcsjZREkvXQsem99kp8def', function=Function(arguments='{\"location\": \"Lima\", \"unit\": \"metric\"}', name='get_weather'), type='function')]"
      ]
     },
     "execution_count": 135,
     "metadata": {},
     "output_type": "execute_result"
    }
   ],
   "source": [
    "tool_calls = response.choices[0].message.tool_calls\n",
    "tool_calls"
   ]
  },
  {
   "cell_type": "code",
   "execution_count": 139,
   "metadata": {},
   "outputs": [],
   "source": [
    "def ensure_string(content):\n",
    "    if isinstance(content, (dict, list)):\n",
    "        return json.dumps(content)\n",
    "    elif isinstance(content, (int, float)):\n",
    "        return str(content)\n",
    "    elif isinstance(content, str):\n",
    "        return content\n",
    "    else:\n",
    "        return str(content)"
   ]
  },
  {
   "cell_type": "code",
   "execution_count": 142,
   "metadata": {},
   "outputs": [
    {
     "data": {
      "text/plain": [
       "[{'role': 'user',\n",
       "  'content': \"How much is a dollar worth in Japan? How about Turkey? Whats the current news in Peru? What's the weather in Lima?\"},\n",
       " ChatCompletionMessage(content=None, refusal=None, role='assistant', audio=None, function_call=None, tool_calls=[ChatCompletionMessageToolCall(id='call_Fyhi4UU25uTBi0YrQU3xetSg', function=Function(arguments='{\"base_currency\": \"USD\", \"target_currency\": \"JPY\"}', name='get_exchange_rate'), type='function'), ChatCompletionMessageToolCall(id='call_pzNhRCR4Truc2EE5ijYmHf0g', function=Function(arguments='{\"base_currency\": \"USD\", \"target_currency\": \"TRY\"}', name='get_exchange_rate'), type='function'), ChatCompletionMessageToolCall(id='call_JcFyLF6KhzX3Bb1XpkCZ7Zw3', function=Function(arguments='{\"search_query\": \"current news in Peru\"}', name='search_internet'), type='function'), ChatCompletionMessageToolCall(id='call_YZEcsjZREkvXQsem99kp8def', function=Function(arguments='{\"location\": \"Lima\", \"unit\": \"metric\"}', name='get_weather'), type='function')])]"
      ]
     },
     "execution_count": 142,
     "metadata": {},
     "output_type": "execute_result"
    }
   ],
   "source": [
    "messages"
   ]
  },
  {
   "cell_type": "code",
   "execution_count": 143,
   "metadata": {},
   "outputs": [
    {
     "name": "stdout",
     "output_type": "stream",
     "text": [
      "\n",
      "Calling get_exchange_rate with arguments {'base_currency': 'USD', 'target_currency': 'JPY'}\n",
      "\n",
      "Function Response:  151.90362698\n",
      "\n",
      "New Tool Message:  {'tool_call_id': 'call_Fyhi4UU25uTBi0YrQU3xetSg', 'role': 'tool', 'function_name': 'get_exchange_rate', 'content': '151.90362698'}\n",
      "\n",
      "Calling get_exchange_rate with arguments {'base_currency': 'USD', 'target_currency': 'TRY'}\n",
      "\n",
      "Function Response:  34.31069893\n",
      "\n",
      "New Tool Message:  {'tool_call_id': 'call_pzNhRCR4Truc2EE5ijYmHf0g', 'role': 'tool', 'function_name': 'get_exchange_rate', 'content': '34.31069893'}\n",
      "\n",
      "Calling search_internet with arguments {'search_query': 'current news in Peru'}\n",
      "\n",
      "Function Response:  [{'title': \"Peru News | Today's Latest Stories | Reuters\", 'href': 'https://www.reuters.com/world/peru/', 'body': 'Reuters.com is your online source for the latest Peru news stories and current events, ensuring our readers up to date with any breaking news developments'}, {'title': \"Peru | Today's latest from Al Jazeera\", 'href': 'https://www.aljazeera.com/where/peru/', 'body': \"Stay on top of Peru latest developments on the ground with Al Jazeera's fact-based news, exclusive video footage, photos and updated maps.\"}, {'title': \"What's behind the violence, protests in Peru? - NBC News\", 'href': 'https://www.nbcnews.com/news/latino/violence-protests-peru-rcna65543', 'body': \"His removal was the latest blow in a years-long clash between Peru's executive and legislature. Castillo's vice president, Dina Boluarte , ascended to the job as Peru's sixth president in ...\"}, {'title': 'Peru declares state of emergency in parts of capital after crime spike', 'href': 'https://www.reuters.com/world/americas/peru-declares-state-emergency-parts-capital-after-crime-spike-2023-09-18/', 'body': \"Peru's President Dina Boluarte speaks as she meets with foreign press, in Lima, Peru January 24, 2023. ... Reuters, the news and media division of Thomson Reuters, is the world's largest ...\"}, {'title': 'Peru - BBC News', 'href': 'https://www.bbc.com/news/topics/c1038wnxe4rt', 'body': 'Former Peruvian leader Alberto Fujimori dies at 86. The ex-president, who was convicted of human rights abuses and corruption, dies of tongue cancer. Latin America. 11 Sep 2024.'}]\n",
      "\n",
      "New Tool Message:  {'tool_call_id': 'call_JcFyLF6KhzX3Bb1XpkCZ7Zw3', 'role': 'tool', 'function_name': 'search_internet', 'content': '[{\"title\": \"Peru News | Today\\'s Latest Stories | Reuters\", \"href\": \"https://www.reuters.com/world/peru/\", \"body\": \"Reuters.com is your online source for the latest Peru news stories and current events, ensuring our readers up to date with any breaking news developments\"}, {\"title\": \"Peru | Today\\'s latest from Al Jazeera\", \"href\": \"https://www.aljazeera.com/where/peru/\", \"body\": \"Stay on top of Peru latest developments on the ground with Al Jazeera\\'s fact-based news, exclusive video footage, photos and updated maps.\"}, {\"title\": \"What\\'s behind the violence, protests in Peru? - NBC News\", \"href\": \"https://www.nbcnews.com/news/latino/violence-protests-peru-rcna65543\", \"body\": \"His removal was the latest blow in a years-long clash between Peru\\'s executive and legislature. Castillo\\'s vice president, Dina Boluarte , ascended to the job as Peru\\'s sixth president in ...\"}, {\"title\": \"Peru declares state of emergency in parts of capital after crime spike\", \"href\": \"https://www.reuters.com/world/americas/peru-declares-state-emergency-parts-capital-after-crime-spike-2023-09-18/\", \"body\": \"Peru\\'s President Dina Boluarte speaks as she meets with foreign press, in Lima, Peru January 24, 2023. ... Reuters, the news and media division of Thomson Reuters, is the world\\'s largest ...\"}, {\"title\": \"Peru - BBC News\", \"href\": \"https://www.bbc.com/news/topics/c1038wnxe4rt\", \"body\": \"Former Peruvian leader Alberto Fujimori dies at 86. The ex-president, who was convicted of human rights abuses and corruption, dies of tongue cancer. Latin America. 11 Sep 2024.\"}]'}\n",
      "\n",
      "Calling get_weather with arguments {'location': 'Lima', 'unit': 'metric'}\n",
      "\n",
      "Function Response:  {'coord': {'lon': -77.0282, 'lat': -12.0432}, 'weather': [{'id': 804, 'main': 'Clouds', 'description': 'overcast clouds', 'icon': '04d'}], 'base': 'stations', 'main': {'temp': 17.17, 'feels_like': 17.27, 'temp_min': 16.14, 'temp_max': 17.17, 'pressure': 1015, 'humidity': 89, 'sea_level': 1015, 'grnd_level': 989}, 'visibility': 10000, 'wind': {'speed': 1.54, 'deg': 230}, 'clouds': {'all': 100}, 'dt': 1729949655, 'sys': {'type': 2, 'id': 2037860, 'country': 'PE', 'sunrise': 1729939046, 'sunset': 1729983982}, 'timezone': -18000, 'id': 3936456, 'name': 'Lima', 'cod': 200}\n",
      "\n",
      "New Tool Message:  {'tool_call_id': 'call_YZEcsjZREkvXQsem99kp8def', 'role': 'tool', 'function_name': 'get_weather', 'content': '{\"coord\": {\"lon\": -77.0282, \"lat\": -12.0432}, \"weather\": [{\"id\": 804, \"main\": \"Clouds\", \"description\": \"overcast clouds\", \"icon\": \"04d\"}], \"base\": \"stations\", \"main\": {\"temp\": 17.17, \"feels_like\": 17.27, \"temp_min\": 16.14, \"temp_max\": 17.17, \"pressure\": 1015, \"humidity\": 89, \"sea_level\": 1015, \"grnd_level\": 989}, \"visibility\": 10000, \"wind\": {\"speed\": 1.54, \"deg\": 230}, \"clouds\": {\"all\": 100}, \"dt\": 1729949655, \"sys\": {\"type\": 2, \"id\": 2037860, \"country\": \"PE\", \"sunrise\": 1729939046, \"sunset\": 1729983982}, \"timezone\": -18000, \"id\": 3936456, \"name\": \"Lima\", \"cod\": 200}'}\n"
     ]
    }
   ],
   "source": [
    "function_to_call = []\n",
    "function_args = []\n",
    "\n",
    "for tool_call in tool_calls:\n",
    "    function_to_call = tool_call.function.name\n",
    "    function_args = json.loads(tool_call.function.arguments)\n",
    "\n",
    "    print(f\"\\nCalling {function_to_call} with arguments {function_args}\")\n",
    "\n",
    "    chosen_function = eval(function_to_call)\n",
    "    function_response = chosen_function(**function_args)\n",
    "\n",
    "    print(\"\\nFunction Response: \", function_response)\n",
    "\n",
    "    tool_message = {\n",
    "        \"tool_call_id\": tool_call.id,\n",
    "        \"role\": \"tool\",\n",
    "        \"function_name\": function_to_call,\n",
    "        \"content\": ensure_string(function_response),\n",
    "    }\n",
    "    \n",
    "    print(\"\\nNew Tool Message: \", tool_message)\n",
    "    \n",
    "    messages.append(tool_message)"
   ]
  },
  {
   "cell_type": "code",
   "execution_count": 144,
   "metadata": {},
   "outputs": [
    {
     "name": "stdout",
     "output_type": "stream",
     "text": [
      "6\n"
     ]
    },
    {
     "data": {
      "text/plain": [
       "[{'role': 'user',\n",
       "  'content': \"How much is a dollar worth in Japan? How about Turkey? Whats the current news in Peru? What's the weather in Lima?\"},\n",
       " ChatCompletionMessage(content=None, refusal=None, role='assistant', audio=None, function_call=None, tool_calls=[ChatCompletionMessageToolCall(id='call_Fyhi4UU25uTBi0YrQU3xetSg', function=Function(arguments='{\"base_currency\": \"USD\", \"target_currency\": \"JPY\"}', name='get_exchange_rate'), type='function'), ChatCompletionMessageToolCall(id='call_pzNhRCR4Truc2EE5ijYmHf0g', function=Function(arguments='{\"base_currency\": \"USD\", \"target_currency\": \"TRY\"}', name='get_exchange_rate'), type='function'), ChatCompletionMessageToolCall(id='call_JcFyLF6KhzX3Bb1XpkCZ7Zw3', function=Function(arguments='{\"search_query\": \"current news in Peru\"}', name='search_internet'), type='function'), ChatCompletionMessageToolCall(id='call_YZEcsjZREkvXQsem99kp8def', function=Function(arguments='{\"location\": \"Lima\", \"unit\": \"metric\"}', name='get_weather'), type='function')]),\n",
       " {'tool_call_id': 'call_Fyhi4UU25uTBi0YrQU3xetSg',\n",
       "  'role': 'tool',\n",
       "  'function_name': 'get_exchange_rate',\n",
       "  'content': '151.90362698'},\n",
       " {'tool_call_id': 'call_pzNhRCR4Truc2EE5ijYmHf0g',\n",
       "  'role': 'tool',\n",
       "  'function_name': 'get_exchange_rate',\n",
       "  'content': '34.31069893'},\n",
       " {'tool_call_id': 'call_JcFyLF6KhzX3Bb1XpkCZ7Zw3',\n",
       "  'role': 'tool',\n",
       "  'function_name': 'search_internet',\n",
       "  'content': '[{\"title\": \"Peru News | Today\\'s Latest Stories | Reuters\", \"href\": \"https://www.reuters.com/world/peru/\", \"body\": \"Reuters.com is your online source for the latest Peru news stories and current events, ensuring our readers up to date with any breaking news developments\"}, {\"title\": \"Peru | Today\\'s latest from Al Jazeera\", \"href\": \"https://www.aljazeera.com/where/peru/\", \"body\": \"Stay on top of Peru latest developments on the ground with Al Jazeera\\'s fact-based news, exclusive video footage, photos and updated maps.\"}, {\"title\": \"What\\'s behind the violence, protests in Peru? - NBC News\", \"href\": \"https://www.nbcnews.com/news/latino/violence-protests-peru-rcna65543\", \"body\": \"His removal was the latest blow in a years-long clash between Peru\\'s executive and legislature. Castillo\\'s vice president, Dina Boluarte , ascended to the job as Peru\\'s sixth president in ...\"}, {\"title\": \"Peru declares state of emergency in parts of capital after crime spike\", \"href\": \"https://www.reuters.com/world/americas/peru-declares-state-emergency-parts-capital-after-crime-spike-2023-09-18/\", \"body\": \"Peru\\'s President Dina Boluarte speaks as she meets with foreign press, in Lima, Peru January 24, 2023. ... Reuters, the news and media division of Thomson Reuters, is the world\\'s largest ...\"}, {\"title\": \"Peru - BBC News\", \"href\": \"https://www.bbc.com/news/topics/c1038wnxe4rt\", \"body\": \"Former Peruvian leader Alberto Fujimori dies at 86. The ex-president, who was convicted of human rights abuses and corruption, dies of tongue cancer. Latin America. 11 Sep 2024.\"}]'},\n",
       " {'tool_call_id': 'call_YZEcsjZREkvXQsem99kp8def',\n",
       "  'role': 'tool',\n",
       "  'function_name': 'get_weather',\n",
       "  'content': '{\"coord\": {\"lon\": -77.0282, \"lat\": -12.0432}, \"weather\": [{\"id\": 804, \"main\": \"Clouds\", \"description\": \"overcast clouds\", \"icon\": \"04d\"}], \"base\": \"stations\", \"main\": {\"temp\": 17.17, \"feels_like\": 17.27, \"temp_min\": 16.14, \"temp_max\": 17.17, \"pressure\": 1015, \"humidity\": 89, \"sea_level\": 1015, \"grnd_level\": 989}, \"visibility\": 10000, \"wind\": {\"speed\": 1.54, \"deg\": 230}, \"clouds\": {\"all\": 100}, \"dt\": 1729949655, \"sys\": {\"type\": 2, \"id\": 2037860, \"country\": \"PE\", \"sunrise\": 1729939046, \"sunset\": 1729983982}, \"timezone\": -18000, \"id\": 3936456, \"name\": \"Lima\", \"cod\": 200}'}]"
      ]
     },
     "execution_count": 144,
     "metadata": {},
     "output_type": "execute_result"
    }
   ],
   "source": [
    "print(len(messages))\n",
    "\n",
    "messages"
   ]
  },
  {
   "cell_type": "code",
   "execution_count": 145,
   "metadata": {},
   "outputs": [
    {
     "name": "stdout",
     "output_type": "stream",
     "text": [
      "\n",
      "LLM Response:  ChatCompletion(id='chatcmpl-AMbDyS88pZagVZP9YfDmWfBWhxGVd', choices=[Choice(finish_reason='stop', index=0, logprobs=None, message=ChatCompletionMessage(content=\"As of now, the exchange rates are as follows:\\n\\n- **Japan (JPY)**: 1 USD is approximately **151.90 JPY**.\\n- **Turkey (TRY)**: 1 USD is approximately **34.31 TRY**.\\n\\n### Current News in Peru\\n1. **[Latest News on Peru - Reuters](https://www.reuters.com/world/peru/)**: This source provides ongoing coverage of current events in Peru.\\n2. **[Al Jazeera - Peru Updates](https://www.aljazeera.com/where/peru/)**: This platform has fact-based news and exclusive content on what's happening in Peru.\\n3. **[NBC News - Violence and Protests in Peru](https://www.nbcnews.com/news/latino/violence-protests-peru-rcna65543)**: This article discusses recent violence and protests in Peru, related to political developments.\\n4. **[State of Emergency Declared - Reuters](https://www.reuters.com/world/americas/peru-declares-state-emergency-parts-capital-after-crime-spike-2023-09-18/)**: Peru has declared a state of emergency in parts of the capital due to a spike in crime.\\n5. **[BBC News on Peru](https://www.bbc.com/news/topics/c1038wnxe4rt)**: A roundup of significant stories from Peru, including recent political events.\\n\\n### Weather in Lima\\nCurrently, the weather in Lima is characterized by:\\n- **Temperature**: 17.17 °C\\n- **Feels Like**: 17.27 °C\\n- **Conditions**: Overcast clouds\\n- **Humidity**: 89%\\n- **Wind**: Speed of 1.54 m/s from 230°.\\n- **Visibility**: 10,000 meters\\n\\nIf you have any more questions or need further assistance, feel free to ask!\", refusal=None, role='assistant', audio=None, function_call=None, tool_calls=None))], created=1729949670, model='gpt-4o-mini-2024-07-18', object='chat.completion', service_tier=None, system_fingerprint='fp_f59a81427f', usage=CompletionUsage(completion_tokens=393, prompt_tokens=791, total_tokens=1184, completion_tokens_details=CompletionTokensDetails(audio_tokens=None, reasoning_tokens=0), prompt_tokens_details=PromptTokensDetails(audio_tokens=None, cached_tokens=0)))\n"
     ]
    }
   ],
   "source": [
    "final_response = client.chat.completions.create(\n",
    "            model=\"gpt-4o-mini\",\n",
    "            messages=messages,\n",
    "        )  \n",
    "\n",
    "print(\"\\nLLM Response: \", final_response)"
   ]
  },
  {
   "cell_type": "code",
   "execution_count": 147,
   "metadata": {},
   "outputs": [
    {
     "name": "stdout",
     "output_type": "stream",
     "text": [
      "As of now, the exchange rates are as follows:\n",
      "\n",
      "- **Japan (JPY)**: 1 USD is approximately **151.90 JPY**.\n",
      "- **Turkey (TRY)**: 1 USD is approximately **34.31 TRY**.\n",
      "\n",
      "### Current News in Peru\n",
      "1. **[Latest News on Peru - Reuters](https://www.reuters.com/world/peru/)**: This source provides ongoing coverage of current events in Peru.\n",
      "2. **[Al Jazeera - Peru Updates](https://www.aljazeera.com/where/peru/)**: This platform has fact-based news and exclusive content on what's happening in Peru.\n",
      "3. **[NBC News - Violence and Protests in Peru](https://www.nbcnews.com/news/latino/violence-protests-peru-rcna65543)**: This article discusses recent violence and protests in Peru, related to political developments.\n",
      "4. **[State of Emergency Declared - Reuters](https://www.reuters.com/world/americas/peru-declares-state-emergency-parts-capital-after-crime-spike-2023-09-18/)**: Peru has declared a state of emergency in parts of the capital due to a spike in crime.\n",
      "5. **[BBC News on Peru](https://www.bbc.com/news/topics/c1038wnxe4rt)**: A roundup of significant stories from Peru, including recent political events.\n",
      "\n",
      "### Weather in Lima\n",
      "Currently, the weather in Lima is characterized by:\n",
      "- **Temperature**: 17.17 °C\n",
      "- **Feels Like**: 17.27 °C\n",
      "- **Conditions**: Overcast clouds\n",
      "- **Humidity**: 89%\n",
      "- **Wind**: Speed of 1.54 m/s from 230°.\n",
      "- **Visibility**: 10,000 meters\n",
      "\n",
      "If you have any more questions or need further assistance, feel free to ask!\n"
     ]
    }
   ],
   "source": [
    "print(final_response.choices[0].message.content)"
   ]
  },
  {
   "cell_type": "code",
   "execution_count": null,
   "metadata": {},
   "outputs": [],
   "source": []
  },
  {
   "cell_type": "code",
   "execution_count": null,
   "metadata": {},
   "outputs": [],
   "source": []
  }
 ],
 "metadata": {
  "kernelspec": {
   "display_name": "Python 3",
   "language": "python",
   "name": "python3"
  },
  "language_info": {
   "codemirror_mode": {
    "name": "ipython",
    "version": 3
   },
   "file_extension": ".py",
   "mimetype": "text/x-python",
   "name": "python",
   "nbconvert_exporter": "python",
   "pygments_lexer": "ipython3",
   "version": "3.11.3"
  }
 },
 "nbformat": 4,
 "nbformat_minor": 2
}
